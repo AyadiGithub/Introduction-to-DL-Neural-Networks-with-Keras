{
 "cells": [
  {
   "cell_type": "code",
   "execution_count": 1,
   "metadata": {},
   "outputs": [
    {
     "data": {
      "text/plain": [
       "'\\nPART A\\n\\n'"
      ]
     },
     "execution_count": 1,
     "metadata": {},
     "output_type": "execute_result"
    }
   ],
   "source": [
    "'''\n",
    "PART A\n",
    "\n",
    "'''"
   ]
  },
  {
   "cell_type": "code",
   "execution_count": 2,
   "metadata": {},
   "outputs": [
    {
     "name": "stderr",
     "output_type": "stream",
     "text": [
      "Using TensorFlow backend.\n"
     ]
    }
   ],
   "source": [
    "import keras\n",
    "from keras.models import Sequential\n",
    "from keras.layers import Dense\n",
    "import numpy as np\n",
    "import pandas as pd\n",
    "from sklearn.model_selection import train_test_split\n",
    "from sklearn.metrics import mean_squared_error\n",
    "from random import seed \n",
    "from random import randint\n"
   ]
  },
  {
   "cell_type": "code",
   "execution_count": 3,
   "metadata": {},
   "outputs": [
    {
     "data": {
      "text/plain": [
       "(1030, 9)"
      ]
     },
     "execution_count": 3,
     "metadata": {},
     "output_type": "execute_result"
    }
   ],
   "source": [
    "#Lets import our dataset\n",
    "file = r'https://cocl.us/concrete_data'\n",
    "df = pd.read_csv(file)\n",
    "concrete_data = df\n",
    "concrete_data.head()\n",
    "concrete_data.shape\n"
   ]
  },
  {
   "cell_type": "code",
   "execution_count": 4,
   "metadata": {},
   "outputs": [
    {
     "data": {
      "text/plain": [
       "Cement                0\n",
       "Blast Furnace Slag    0\n",
       "Fly Ash               0\n",
       "Water                 0\n",
       "Superplasticizer      0\n",
       "Coarse Aggregate      0\n",
       "Fine Aggregate        0\n",
       "Age                   0\n",
       "Strength              0\n",
       "dtype: int64"
      ]
     },
     "execution_count": 4,
     "metadata": {},
     "output_type": "execute_result"
    }
   ],
   "source": [
    "#Lets check the dataset for any missing values\n",
    "concrete_data.describe() #Generating summary metrics\n",
    "concrete_data.isnull().sum() #Checking for missing values"
   ]
  },
  {
   "cell_type": "code",
   "execution_count": 5,
   "metadata": {},
   "outputs": [
    {
     "data": {
      "text/plain": [
       "0    79.99\n",
       "1    61.89\n",
       "2    40.27\n",
       "3    41.05\n",
       "4    44.30\n",
       "Name: Strength, dtype: float64"
      ]
     },
     "execution_count": 5,
     "metadata": {},
     "output_type": "execute_result"
    }
   ],
   "source": [
    "#We set the 'concrete sample strength' as the y (Target) and X as all the columns that are not 'Strength'\n",
    "concrete_data_columns = concrete_data.columns\n",
    "X = concrete_data[concrete_data_columns[concrete_data_columns != 'Strength']]\n",
    "X.head()\n",
    "y = concrete_data['Strength']\n",
    "y.head()\n"
   ]
  },
  {
   "cell_type": "code",
   "execution_count": 6,
   "metadata": {},
   "outputs": [
    {
     "data": {
      "text/plain": [
       "8"
      ]
     },
     "execution_count": 6,
     "metadata": {},
     "output_type": "execute_result"
    }
   ],
   "source": [
    "#Saving the number of predictor columns (which is 8)\n",
    "n_cols = X.shape[1] # number of predictor columns\n",
    "n_cols"
   ]
  },
  {
   "cell_type": "code",
   "execution_count": 7,
   "metadata": {},
   "outputs": [],
   "source": [
    "#Defining the Baseline Regression Neural Network\n",
    "def Baseline_Regression_Network():\n",
    "    model = Sequential()\n",
    "\n",
    "    #We use the add method to add each Dense layer. We will add 10 neurons in the first layer. \n",
    "    #We specify the input shape parameter\n",
    "    #We will use the ReLU activation function\n",
    "    model.add(Dense(10, activation='relu', input_shape=(n_cols,)))\n",
    "\n",
    "    #Output layer has 1 neuron\n",
    "    model.add(Dense(1))\n",
    "\n",
    "    #Next we need to specifiy an optimizer. We will use Adam.\n",
    "    #For measuring the error, we will use Mean Squared Error\n",
    "    model.compile(optimizer='adam', loss='mean_squared_error')\n",
    "    return model"
   ]
  },
  {
   "cell_type": "code",
   "execution_count": 8,
   "metadata": {},
   "outputs": [
    {
     "name": "stdout",
     "output_type": "stream",
     "text": [
      "Using random_state split:  1\n",
      "Mean Squared Error 1 = 731.5953487655491\n",
      "Using random_state split:  2\n",
      "Mean Squared Error 2 = 225.34628039116228\n",
      "Using random_state split:  3\n",
      "Mean Squared Error 3 = 1065.697603787419\n",
      "Using random_state split:  4\n",
      "Mean Squared Error 4 = 574.7925774534158\n",
      "Using random_state split:  5\n",
      "Mean Squared Error 5 = 156.0038158330331\n",
      "Using random_state split:  6\n",
      "Mean Squared Error 6 = 180.1203368350526\n",
      "Using random_state split:  7\n",
      "Mean Squared Error 7 = 769.7018263733503\n",
      "Using random_state split:  8\n",
      "Mean Squared Error 8 = 936.1649296337732\n",
      "Using random_state split:  9\n",
      "Mean Squared Error 9 = 280.0433878975779\n",
      "Using random_state split:  10\n",
      "Mean Squared Error 10 = 185.85428330504777\n",
      "Using random_state split:  11\n",
      "Mean Squared Error 11 = 185.1558908258827\n",
      "Using random_state split:  12\n",
      "Mean Squared Error 12 = 717.1332909050111\n",
      "Using random_state split:  13\n",
      "Mean Squared Error 13 = 181.32017126978408\n",
      "Using random_state split:  14\n",
      "Mean Squared Error 14 = 270.6450071859514\n",
      "Using random_state split:  15\n",
      "Mean Squared Error 15 = 105.35798227748438\n",
      "Using random_state split:  16\n",
      "Mean Squared Error 16 = 102.80556073235077\n",
      "Using random_state split:  17\n",
      "Mean Squared Error 17 = 391.67632622086114\n",
      "Using random_state split:  18\n",
      "Mean Squared Error 18 = 1434.3486146402204\n",
      "Using random_state split:  19\n",
      "Mean Squared Error 19 = 217.15485745031856\n",
      "Using random_state split:  20\n",
      "Mean Squared Error 20 = 103.88814616280466\n",
      "Using random_state split:  21\n",
      "Mean Squared Error 21 = 189.04855554080703\n",
      "Using random_state split:  22\n",
      "Mean Squared Error 22 = 225.3531590927766\n",
      "Using random_state split:  23\n",
      "Mean Squared Error 23 = 110.395073899945\n",
      "Using random_state split:  24\n",
      "Mean Squared Error 24 = 242.26046965268824\n",
      "Using random_state split:  25\n",
      "Mean Squared Error 25 = 1455.5345372073473\n",
      "Using random_state split:  26\n",
      "Mean Squared Error 26 = 343.1976150463314\n",
      "Using random_state split:  27\n",
      "Mean Squared Error 27 = 112.90645796890011\n",
      "Using random_state split:  28\n",
      "Mean Squared Error 28 = 226.1335702050465\n",
      "Using random_state split:  29\n",
      "Mean Squared Error 29 = 179.59904242950736\n",
      "Using random_state split:  30\n",
      "Mean Squared Error 30 = 137.43297164571325\n",
      "Using random_state split:  31\n",
      "Mean Squared Error 31 = 262.72007544063825\n",
      "Using random_state split:  32\n",
      "Mean Squared Error 32 = 405.16988957969886\n",
      "Using random_state split:  33\n",
      "Mean Squared Error 33 = 411.5670138362156\n",
      "Using random_state split:  34\n",
      "Mean Squared Error 34 = 191.46929047717245\n",
      "Using random_state split:  35\n",
      "Mean Squared Error 35 = 105.43513202358604\n",
      "Using random_state split:  36\n",
      "Mean Squared Error 36 = 230.32546078580097\n",
      "Using random_state split:  37\n",
      "Mean Squared Error 37 = 123.30339677434138\n",
      "Using random_state split:  38\n",
      "Mean Squared Error 38 = 110.12662148089856\n",
      "Using random_state split:  39\n",
      "Mean Squared Error 39 = 1093.5411981378945\n",
      "Using random_state split:  40\n",
      "Mean Squared Error 40 = 1525.7266579044676\n",
      "Using random_state split:  41\n",
      "Mean Squared Error 41 = 484.62391855184313\n",
      "Using random_state split:  42\n",
      "Mean Squared Error 42 = 255.60582923271895\n",
      "Using random_state split:  43\n",
      "Mean Squared Error 43 = 137.91081351369715\n",
      "Using random_state split:  44\n",
      "Mean Squared Error 44 = 117.05793451105507\n",
      "Using random_state split:  45\n",
      "Mean Squared Error 45 = 204.66210915278464\n",
      "Using random_state split:  46\n",
      "Mean Squared Error 46 = 192.06412706097353\n",
      "Using random_state split:  47\n",
      "Mean Squared Error 47 = 2936.0213666502327\n",
      "Using random_state split:  48\n",
      "Mean Squared Error 48 = 176.14422609890934\n",
      "Using random_state split:  49\n",
      "Mean Squared Error 49 = 102.34210506303411\n",
      "Using random_state split:  50\n",
      "Mean Squared Error 50 = 674.9354506804334\n"
     ]
    }
   ],
   "source": [
    "#Creating an empty list to fill with Mean Squared Errors\n",
    "MeanSquaredErrorsList = [] \n",
    "for i in range (1, 51): #Creating a loop that will execute 50 times with a random data split each time\n",
    "     \n",
    "     #Split random state\n",
    "     random_state = i\n",
    "     print(\"Using random_state split: \", random_state)\n",
    "     \n",
    "     #Splitting the dataset using 'i'\n",
    "     X_train, X_test, y_train, y_test = train_test_split(X, y, test_size=0.3, random_state=random_state)   \n",
    "     \n",
    "     #Creating the model\n",
    "     model = Baseline_Regression_Network()\n",
    "    \n",
    "     #Lets train the model using X_train and y_train for 50 epochs.\n",
    "     model.fit(X_train, y_train, epochs=50, verbose=0)\n",
    "     \n",
    "     #Model Evaluation\n",
    "     Evaluation = model.evaluate(X_test, y_test, verbose=0)\n",
    "     print(\"Mean Squared Error \"+str(i)+\" = \"+str(Evaluation))\n",
    "     \n",
    "     #Predicting Strength for Test set\n",
    "     y_pred = model.predict(X_test)\n",
    "     MSE = mean_squared_error(y_test, y_pred)\n",
    "     MeanSquaredErrorsList.append(MSE)"
   ]
  },
  {
   "cell_type": "code",
   "execution_count": 9,
   "metadata": {},
   "outputs": [
    {
     "data": {
      "text/plain": [
       "array([ 731.59535373,  225.34627618, 1065.69760619,  574.79257658,\n",
       "        156.00381534,  180.12033641,  769.70182163,  936.16491502,\n",
       "        280.04338507,  185.85428276,  185.15588685,  717.13329422,\n",
       "        181.32017925,  270.64499809,  105.35797928,  102.80556062,\n",
       "        391.67632969, 1434.34859819,  217.15485905,  103.88814545,\n",
       "        189.04855339,  225.35316062,  110.39507078,  242.26046534,\n",
       "       1455.53451673,  343.19761385,  112.90645588,  226.13357277,\n",
       "        179.59903553,  137.43296846,  262.72007791,  405.16989385,\n",
       "        411.56700443,  191.46929064,  105.4351342 ,  230.32545349,\n",
       "        123.30339766,  110.12661998, 1093.54121818, 1525.72666406,\n",
       "        484.62392163,  255.60583014,  137.91081342,  117.0579381 ,\n",
       "        204.66210384,  192.06412265, 2936.02134299,  176.14422066,\n",
       "        102.34210605,  674.93543638])"
      ]
     },
     "execution_count": 9,
     "metadata": {},
     "output_type": "execute_result"
    }
   ],
   "source": [
    "#Creating a numpy array using MeanSquaredErrorList\n",
    "MeanSquaredErrorsList = np.array(MeanSquaredErrorsList)     \n",
    "MeanSquaredErrorsList"
   ]
  },
  {
   "cell_type": "code",
   "execution_count": 10,
   "metadata": {},
   "outputs": [
    {
     "name": "stdout",
     "output_type": "stream",
     "text": [
      "The Mean of the Mean Squared Errors =  435.5484040641082\n",
      "The Standard Deviation of the Mean Squared Errors =  514.6417299310801\n"
     ]
    }
   ],
   "source": [
    "#Calculating the mean of the Mean Squared Errors and the Standard Deviation\n",
    "Mean = np.mean(MeanSquaredErrorsList)   \n",
    "Standard_deviation = np.std(MeanSquaredErrorsList)\n",
    "print(\"The Mean of the Mean Squared Errors = \", Mean)\n",
    "print(\"The Standard Deviation of the Mean Squared Errors = \", Standard_deviation)"
   ]
  },
  {
   "cell_type": "code",
   "execution_count": 11,
   "metadata": {},
   "outputs": [],
   "source": [
    "#Done"
   ]
  },
  {
   "cell_type": "markdown",
   "metadata": {},
   "source": [
    "'''\n",
    "\n",
    "PART B - (Normalized Predictors)\n",
    "\n",
    "'''"
   ]
  },
  {
   "cell_type": "code",
   "execution_count": 11,
   "metadata": {},
   "outputs": [],
   "source": [
    "X = concrete_data[concrete_data_columns[concrete_data_columns != 'Strength']]"
   ]
  },
  {
   "cell_type": "code",
   "execution_count": 12,
   "metadata": {},
   "outputs": [
    {
     "data": {
      "text/html": [
       "<div>\n",
       "<style scoped>\n",
       "    .dataframe tbody tr th:only-of-type {\n",
       "        vertical-align: middle;\n",
       "    }\n",
       "\n",
       "    .dataframe tbody tr th {\n",
       "        vertical-align: top;\n",
       "    }\n",
       "\n",
       "    .dataframe thead th {\n",
       "        text-align: right;\n",
       "    }\n",
       "</style>\n",
       "<table border=\"1\" class=\"dataframe\">\n",
       "  <thead>\n",
       "    <tr style=\"text-align: right;\">\n",
       "      <th></th>\n",
       "      <th>Cement</th>\n",
       "      <th>Blast Furnace Slag</th>\n",
       "      <th>Fly Ash</th>\n",
       "      <th>Water</th>\n",
       "      <th>Superplasticizer</th>\n",
       "      <th>Coarse Aggregate</th>\n",
       "      <th>Fine Aggregate</th>\n",
       "      <th>Age</th>\n",
       "    </tr>\n",
       "  </thead>\n",
       "  <tbody>\n",
       "    <tr>\n",
       "      <th>0</th>\n",
       "      <td>2.476712</td>\n",
       "      <td>-0.856472</td>\n",
       "      <td>-0.846733</td>\n",
       "      <td>-0.916319</td>\n",
       "      <td>-0.620147</td>\n",
       "      <td>0.862735</td>\n",
       "      <td>-1.217079</td>\n",
       "      <td>-0.279597</td>\n",
       "    </tr>\n",
       "    <tr>\n",
       "      <th>1</th>\n",
       "      <td>2.476712</td>\n",
       "      <td>-0.856472</td>\n",
       "      <td>-0.846733</td>\n",
       "      <td>-0.916319</td>\n",
       "      <td>-0.620147</td>\n",
       "      <td>1.055651</td>\n",
       "      <td>-1.217079</td>\n",
       "      <td>-0.279597</td>\n",
       "    </tr>\n",
       "    <tr>\n",
       "      <th>2</th>\n",
       "      <td>0.491187</td>\n",
       "      <td>0.795140</td>\n",
       "      <td>-0.846733</td>\n",
       "      <td>2.174405</td>\n",
       "      <td>-1.038638</td>\n",
       "      <td>-0.526262</td>\n",
       "      <td>-2.239829</td>\n",
       "      <td>3.551340</td>\n",
       "    </tr>\n",
       "    <tr>\n",
       "      <th>3</th>\n",
       "      <td>0.491187</td>\n",
       "      <td>0.795140</td>\n",
       "      <td>-0.846733</td>\n",
       "      <td>2.174405</td>\n",
       "      <td>-1.038638</td>\n",
       "      <td>-0.526262</td>\n",
       "      <td>-2.239829</td>\n",
       "      <td>5.055221</td>\n",
       "    </tr>\n",
       "    <tr>\n",
       "      <th>4</th>\n",
       "      <td>-0.790075</td>\n",
       "      <td>0.678079</td>\n",
       "      <td>-0.846733</td>\n",
       "      <td>0.488555</td>\n",
       "      <td>-1.038638</td>\n",
       "      <td>0.070492</td>\n",
       "      <td>0.647569</td>\n",
       "      <td>4.976069</td>\n",
       "    </tr>\n",
       "  </tbody>\n",
       "</table>\n",
       "</div>"
      ],
      "text/plain": [
       "     Cement  Blast Furnace Slag   Fly Ash     Water  Superplasticizer  \\\n",
       "0  2.476712           -0.856472 -0.846733 -0.916319         -0.620147   \n",
       "1  2.476712           -0.856472 -0.846733 -0.916319         -0.620147   \n",
       "2  0.491187            0.795140 -0.846733  2.174405         -1.038638   \n",
       "3  0.491187            0.795140 -0.846733  2.174405         -1.038638   \n",
       "4 -0.790075            0.678079 -0.846733  0.488555         -1.038638   \n",
       "\n",
       "   Coarse Aggregate  Fine Aggregate       Age  \n",
       "0          0.862735       -1.217079 -0.279597  \n",
       "1          1.055651       -1.217079 -0.279597  \n",
       "2         -0.526262       -2.239829  3.551340  \n",
       "3         -0.526262       -2.239829  5.055221  \n",
       "4          0.070492        0.647569  4.976069  "
      ]
     },
     "execution_count": 12,
     "metadata": {},
     "output_type": "execute_result"
    }
   ],
   "source": [
    "#Normalization is required for Part B of the project\n",
    "X_normalized = (X - X.mean()) / X.std()\n",
    "X_normalized.head()\n"
   ]
  },
  {
   "cell_type": "code",
   "execution_count": 13,
   "metadata": {},
   "outputs": [
    {
     "name": "stdout",
     "output_type": "stream",
     "text": [
      "Using random_state split:  1\n",
      "Mean Squared Error 1 = 325.8589441984603\n",
      "Using random_state split:  2\n",
      "Mean Squared Error 2 = 768.5732552241353\n",
      "Using random_state split:  3\n",
      "Mean Squared Error 3 = 275.3453907395644\n",
      "Using random_state split:  4\n",
      "Mean Squared Error 4 = 324.54524309966945\n",
      "Using random_state split:  5\n",
      "Mean Squared Error 5 = 353.9187705030719\n",
      "Using random_state split:  6\n",
      "Mean Squared Error 6 = 388.2310172763071\n",
      "Using random_state split:  7\n",
      "Mean Squared Error 7 = 426.712941191343\n",
      "Using random_state split:  8\n",
      "Mean Squared Error 8 = 317.6143131194377\n",
      "Using random_state split:  9\n",
      "Mean Squared Error 9 = 255.19959962715222\n",
      "Using random_state split:  10\n",
      "Mean Squared Error 10 = 446.5638576865582\n",
      "Using random_state split:  11\n",
      "Mean Squared Error 11 = 291.7228201955653\n",
      "Using random_state split:  12\n",
      "Mean Squared Error 12 = 245.45743326230343\n",
      "Using random_state split:  13\n",
      "Mean Squared Error 13 = 649.5850474533526\n",
      "Using random_state split:  14\n",
      "Mean Squared Error 14 = 445.0232662460179\n",
      "Using random_state split:  15\n",
      "Mean Squared Error 15 = 579.6316706092613\n",
      "Using random_state split:  16\n",
      "Mean Squared Error 16 = 455.5246423023804\n",
      "Using random_state split:  17\n",
      "Mean Squared Error 17 = 374.21028813729396\n",
      "Using random_state split:  18\n",
      "Mean Squared Error 18 = 313.4043197878742\n",
      "Using random_state split:  19\n",
      "Mean Squared Error 19 = 394.72262583118425\n",
      "Using random_state split:  20\n",
      "Mean Squared Error 20 = 287.349469132408\n",
      "Using random_state split:  21\n",
      "Mean Squared Error 21 = 397.6556550553701\n",
      "Using random_state split:  22\n",
      "Mean Squared Error 22 = 455.81945879791164\n",
      "Using random_state split:  23\n",
      "Mean Squared Error 23 = 272.70703322524776\n",
      "Using random_state split:  24\n",
      "Mean Squared Error 24 = 352.0958238126391\n",
      "Using random_state split:  25\n",
      "Mean Squared Error 25 = 372.0605269249975\n",
      "Using random_state split:  26\n",
      "Mean Squared Error 26 = 412.55741195925617\n",
      "Using random_state split:  27\n",
      "Mean Squared Error 27 = 355.8189619243338\n",
      "Using random_state split:  28\n",
      "Mean Squared Error 28 = 477.8622152087758\n",
      "Using random_state split:  29\n",
      "Mean Squared Error 29 = 290.5264506417185\n",
      "Using random_state split:  30\n",
      "Mean Squared Error 30 = 463.0039632358983\n",
      "Using random_state split:  31\n",
      "Mean Squared Error 31 = 271.22405033049847\n",
      "Using random_state split:  32\n",
      "Mean Squared Error 32 = 318.1695859841158\n",
      "Using random_state split:  33\n",
      "Mean Squared Error 33 = 486.20728901983466\n",
      "Using random_state split:  34\n",
      "Mean Squared Error 34 = 461.9350850620702\n",
      "Using random_state split:  35\n",
      "Mean Squared Error 35 = 324.926852821918\n",
      "Using random_state split:  36\n",
      "Mean Squared Error 36 = 583.967534630044\n",
      "Using random_state split:  37\n",
      "Mean Squared Error 37 = 343.8803768219685\n",
      "Using random_state split:  38\n",
      "Mean Squared Error 38 = 433.3616953235614\n",
      "Using random_state split:  39\n",
      "Mean Squared Error 39 = 305.80206209941974\n",
      "Using random_state split:  40\n",
      "Mean Squared Error 40 = 285.1346311106265\n",
      "Using random_state split:  41\n",
      "Mean Squared Error 41 = 282.5988847553537\n",
      "Using random_state split:  42\n",
      "Mean Squared Error 42 = 452.16324810534235\n",
      "Using random_state split:  43\n",
      "Mean Squared Error 43 = 428.35562894259454\n",
      "Using random_state split:  44\n",
      "Mean Squared Error 44 = 325.59459975159285\n",
      "Using random_state split:  45\n",
      "Mean Squared Error 45 = 324.48911929824976\n",
      "Using random_state split:  46\n",
      "Mean Squared Error 46 = 321.79998255856214\n",
      "Using random_state split:  47\n",
      "Mean Squared Error 47 = 467.60207487927283\n",
      "Using random_state split:  48\n",
      "Mean Squared Error 48 = 383.4726201029657\n",
      "Using random_state split:  49\n",
      "Mean Squared Error 49 = 263.4148968446602\n",
      "Using random_state split:  50\n",
      "Mean Squared Error 50 = 355.91192626953125\n"
     ]
    }
   ],
   "source": [
    "#Creating an empty list to fill with Mean Squared Errors\n",
    "MeanSquaredErrorsList = [] \n",
    "for i in range (1, 51): #Creating a loop that will execute 50 times with a random data split each time\n",
    "     \n",
    "     #Split random state\n",
    "     random_state = i\n",
    "     print(\"Using random_state split: \", random_state)\n",
    "     \n",
    "     #Splitting the dataset using 'i' (We use the X_normalized set)\n",
    "     X_train, X_test, y_train, y_test = train_test_split(X_normalized, y, test_size=0.3, random_state=random_state)   \n",
    "     \n",
    "     #Creating the model\n",
    "     model = Baseline_Regression_Network()\n",
    "    \n",
    "     #Lets train the model using X_train and y_train for 50 epochs.\n",
    "     model.fit(X_train, y_train, epochs=50, verbose=0)\n",
    "     \n",
    "     #Model Evaluation\n",
    "     Evaluation = model.evaluate(X_test, y_test, verbose=0)\n",
    "     print(\"Mean Squared Error \"+str(i)+\" = \"+str(Evaluation))\n",
    "     \n",
    "     #Predicting Strength for Test set\n",
    "     y_pred = model.predict(X_test)\n",
    "     MSE = mean_squared_error(y_test, y_pred)\n",
    "     MeanSquaredErrorsList.append(MSE)"
   ]
  },
  {
   "cell_type": "code",
   "execution_count": 14,
   "metadata": {},
   "outputs": [
    {
     "data": {
      "text/plain": [
       "array([325.85894051, 768.57324644, 275.34538674, 324.54524618,\n",
       "       353.91876179, 388.23100417, 426.71294458, 317.61431272,\n",
       "       255.19959962, 446.56383499, 291.72281289, 245.45743279,\n",
       "       649.58504967, 445.02324066, 579.63166779, 455.52464638,\n",
       "       374.2102799 , 313.40431826, 394.72261594, 287.34946327,\n",
       "       397.65566165, 455.81945217, 272.70702437, 352.09581358,\n",
       "       372.06052857, 412.55740839, 355.8189588 , 477.86221794,\n",
       "       290.52644328, 463.00395731, 271.22404949, 318.16959249,\n",
       "       486.2072853 , 461.9350864 , 324.92686416, 583.96753372,\n",
       "       343.88038133, 433.36169257, 305.80206162, 285.13463196,\n",
       "       282.59888715, 452.16326095, 428.35563366, 325.59459946,\n",
       "       324.48910867, 321.7999698 , 467.60207736, 383.47261555,\n",
       "       263.41490423, 355.91192148])"
      ]
     },
     "execution_count": 14,
     "metadata": {},
     "output_type": "execute_result"
    }
   ],
   "source": [
    "#Creating a numpy array using MeanSquaredErrorList\n",
    "MeanSquaredErrorsList = np.array(MeanSquaredErrorsList)     \n",
    "MeanSquaredErrorsList"
   ]
  },
  {
   "cell_type": "code",
   "execution_count": 16,
   "metadata": {},
   "outputs": [
    {
     "name": "stdout",
     "output_type": "stream",
     "text": [
      "The Mean of the Mean Squared Errors =  383.7862885744437\n",
      "The Standard Deviation of the Mean Squared Errors =  104.44865253165882\n"
     ]
    }
   ],
   "source": [
    "#Calculating the mean of the Mean Squared Errors and the Standard Deviation\n",
    "Mean = np.mean(MeanSquaredErrorsList)   \n",
    "Standard_deviation = np.std(MeanSquaredErrorsList)\n",
    "print(\"The Mean of the Mean Squared Errors = \", Mean)\n",
    "print(\"The Standard Deviation of the Mean Squared Errors = \", Standard_deviation)"
   ]
  },
  {
   "cell_type": "markdown",
   "metadata": {},
   "source": [
    "'''\n",
    "Question: How does the mean of the mean squared errors compare to that from Step A?\n",
    "\n",
    "Answer: There is a slight decrease in the Mean of the Mean Squared Error due to Normalization of the predictors in step B. In addition, it has reduced the variance for the error and the standard deviation significantly. \n",
    "\n",
    "'''\n"
   ]
  },
  {
   "cell_type": "raw",
   "metadata": {},
   "source": [
    "'''\n",
    "PART C - (Normalized Predictors and 100 Epochs)\n",
    "\n",
    "'''"
   ]
  },
  {
   "cell_type": "code",
   "execution_count": 17,
   "metadata": {},
   "outputs": [
    {
     "name": "stdout",
     "output_type": "stream",
     "text": [
      "Using random_state split:  1\n",
      "Mean Squared Error 1 = 206.17186591386024\n",
      "Using random_state split:  2\n",
      "Mean Squared Error 2 = 143.38587526981885\n",
      "Using random_state split:  3\n",
      "Mean Squared Error 3 = 164.0963389078776\n",
      "Using random_state split:  4\n",
      "Mean Squared Error 4 = 170.71517692491847\n",
      "Using random_state split:  5\n",
      "Mean Squared Error 5 = 147.5462155635303\n",
      "Using random_state split:  6\n",
      "Mean Squared Error 6 = 195.01918498906502\n",
      "Using random_state split:  7\n",
      "Mean Squared Error 7 = 140.47995721020746\n",
      "Using random_state split:  8\n",
      "Mean Squared Error 8 = 161.07381777470167\n",
      "Using random_state split:  9\n",
      "Mean Squared Error 9 = 172.8129839357049\n",
      "Using random_state split:  10\n",
      "Mean Squared Error 10 = 148.5251587802924\n",
      "Using random_state split:  11\n",
      "Mean Squared Error 11 = 142.9070613577142\n",
      "Using random_state split:  12\n",
      "Mean Squared Error 12 = 160.9277789662185\n",
      "Using random_state split:  13\n",
      "Mean Squared Error 13 = 204.22758794988243\n",
      "Using random_state split:  14\n",
      "Mean Squared Error 14 = 172.47166581138438\n",
      "Using random_state split:  15\n",
      "Mean Squared Error 15 = 147.3247692268643\n",
      "Using random_state split:  16\n",
      "Mean Squared Error 16 = 156.41143542045916\n",
      "Using random_state split:  17\n",
      "Mean Squared Error 17 = 145.03408808538444\n",
      "Using random_state split:  18\n",
      "Mean Squared Error 18 = 140.6903935898469\n",
      "Using random_state split:  19\n",
      "Mean Squared Error 19 = 180.52077348332574\n",
      "Using random_state split:  20\n",
      "Mean Squared Error 20 = 156.50029184285876\n",
      "Using random_state split:  21\n",
      "Mean Squared Error 21 = 138.06293450512933\n",
      "Using random_state split:  22\n",
      "Mean Squared Error 22 = 138.0338724377086\n",
      "Using random_state split:  23\n",
      "Mean Squared Error 23 = 140.65246258584426\n",
      "Using random_state split:  24\n",
      "Mean Squared Error 24 = 137.32532281474388\n",
      "Using random_state split:  25\n",
      "Mean Squared Error 25 = 150.20971872274157\n",
      "Using random_state split:  26\n",
      "Mean Squared Error 26 = 166.06802773089856\n",
      "Using random_state split:  27\n",
      "Mean Squared Error 27 = 159.26947075803687\n",
      "Using random_state split:  28\n",
      "Mean Squared Error 28 = 166.00794395273942\n",
      "Using random_state split:  29\n",
      "Mean Squared Error 29 = 192.48114502545698\n",
      "Using random_state split:  30\n",
      "Mean Squared Error 30 = 215.0155266326608\n",
      "Using random_state split:  31\n",
      "Mean Squared Error 31 = 147.65868741871856\n",
      "Using random_state split:  32\n",
      "Mean Squared Error 32 = 149.390988544353\n",
      "Using random_state split:  33\n",
      "Mean Squared Error 33 = 155.89386806055953\n",
      "Using random_state split:  34\n",
      "Mean Squared Error 34 = 171.1413056703833\n",
      "Using random_state split:  35\n",
      "Mean Squared Error 35 = 163.93828812386226\n",
      "Using random_state split:  36\n",
      "Mean Squared Error 36 = 157.96382385550194\n",
      "Using random_state split:  37\n",
      "Mean Squared Error 37 = 158.32394186964314\n",
      "Using random_state split:  38\n",
      "Mean Squared Error 38 = 157.1966781863117\n",
      "Using random_state split:  39\n",
      "Mean Squared Error 39 = 162.4331448749431\n",
      "Using random_state split:  40\n",
      "Mean Squared Error 40 = 161.32011418512337\n",
      "Using random_state split:  41\n",
      "Mean Squared Error 41 = 163.56098449114458\n",
      "Using random_state split:  42\n",
      "Mean Squared Error 42 = 153.95348385313955\n",
      "Using random_state split:  43\n",
      "Mean Squared Error 43 = 151.4146325071267\n",
      "Using random_state split:  44\n",
      "Mean Squared Error 44 = 176.4709323525043\n",
      "Using random_state split:  45\n",
      "Mean Squared Error 45 = 154.82125965599874\n",
      "Using random_state split:  46\n",
      "Mean Squared Error 46 = 174.71388417463086\n",
      "Using random_state split:  47\n",
      "Mean Squared Error 47 = 162.33365623696338\n",
      "Using random_state split:  48\n",
      "Mean Squared Error 48 = 149.53268037567634\n",
      "Using random_state split:  49\n",
      "Mean Squared Error 49 = 161.70852001893869\n",
      "Using random_state split:  50\n",
      "Mean Squared Error 50 = 161.60091286569738\n"
     ]
    }
   ],
   "source": [
    "#Creating an empty list to fill with Mean Squared Errors\n",
    "MeanSquaredErrorsList = [] \n",
    "for i in range (1, 51): #Creating a loop that will execute 50 times with a random data split each time\n",
    "     \n",
    "     #Split random state\n",
    "     random_state = i\n",
    "     print(\"Using random_state split: \", random_state)\n",
    "     \n",
    "     #Splitting the dataset using 'i' (We use the X_normalized set)\n",
    "     X_train, X_test, y_train, y_test = train_test_split(X_normalized, y, test_size=0.3, random_state=random_state)   \n",
    "     \n",
    "     #Creating the model\n",
    "     model = Baseline_Regression_Network()\n",
    "    \n",
    "     #Lets train the model using X_train and y_train for 50 epochs.\n",
    "     model.fit(X_train, y_train, epochs=100, verbose=0)\n",
    "     \n",
    "     #Model Evaluation\n",
    "     Evaluation = model.evaluate(X_test, y_test, verbose=0)\n",
    "     print(\"Mean Squared Error \"+str(i)+\" = \"+str(Evaluation))\n",
    "     \n",
    "     #Predicting Strength for Test set\n",
    "     y_pred = model.predict(X_test)\n",
    "     MSE = mean_squared_error(y_test, y_pred)\n",
    "     MeanSquaredErrorsList.append(MSE)"
   ]
  },
  {
   "cell_type": "code",
   "execution_count": 18,
   "metadata": {},
   "outputs": [
    {
     "data": {
      "text/plain": [
       "array([206.17186364, 143.3858709 , 164.09633768, 170.71518164,\n",
       "       147.54621222, 195.01918102, 140.4799576 , 161.07381799,\n",
       "       172.81298815, 148.52515458, 142.90706025, 160.92778036,\n",
       "       204.22759003, 172.47166208, 147.32476651, 156.41143132,\n",
       "       145.0340887 , 140.69039619, 180.52076784, 156.50028726,\n",
       "       138.06293244, 138.03386665, 140.6524631 , 137.32532373,\n",
       "       150.20972204, 166.06802385, 159.26946126, 166.00794221,\n",
       "       192.48113972, 215.01552703, 147.65868598, 149.39098696,\n",
       "       155.8938587 , 171.14130454, 163.9382898 , 157.96382561,\n",
       "       158.32394133, 157.19667888, 162.43314317, 161.32011253,\n",
       "       163.560983  , 153.95348836, 151.41462939, 176.47093187,\n",
       "       154.8212581 , 174.71388105, 162.33365722, 149.53267887,\n",
       "       161.70851999, 161.60091186])"
      ]
     },
     "execution_count": 18,
     "metadata": {},
     "output_type": "execute_result"
    }
   ],
   "source": [
    "#Creating a numpy array using MeanSquaredErrorList\n",
    "MeanSquaredErrorsList = np.array(MeanSquaredErrorsList)     \n",
    "MeanSquaredErrorsList"
   ]
  },
  {
   "cell_type": "code",
   "execution_count": 19,
   "metadata": {},
   "outputs": [
    {
     "name": "stdout",
     "output_type": "stream",
     "text": [
      "The Mean of the Mean Squared Errors =  161.10681130375417\n",
      "The Standard Deviation of the Mean Squared Errors =  17.579076396093768\n"
     ]
    }
   ],
   "source": [
    "#Calculating the mean of the Mean Squared Errors and the Standard Deviation\n",
    "Mean = np.mean(MeanSquaredErrorsList)   \n",
    "Standard_deviation = np.std(MeanSquaredErrorsList)\n",
    "print(\"The Mean of the Mean Squared Errors = \", Mean)\n",
    "print(\"The Standard Deviation of the Mean Squared Errors = \", Standard_deviation)"
   ]
  },
  {
   "cell_type": "markdown",
   "metadata": {},
   "source": [
    "'''\n",
    "\n",
    "Question: How does the mean of the mean squared errors compare to that from Step B?\n",
    "Answer: Increasing the number of epochs from 50 to 100 significantly decreased then mean of the mean squared error\n",
    "and stabalized the variance and standard deviation from one random_split state to another. It also increased the computation time.\n",
    "\n",
    "\n",
    "'''"
   ]
  },
  {
   "cell_type": "markdown",
   "metadata": {},
   "source": [
    "'''\n",
    "\n",
    "PART D - (Normalized Predictors, 50 Epochs and Three Hidden Layers)\n",
    "\n",
    "\n",
    "'''"
   ]
  },
  {
   "cell_type": "code",
   "execution_count": 20,
   "metadata": {},
   "outputs": [],
   "source": [
    "def Deeper_Regression_Network():\n",
    "    model = Sequential()\n",
    "\n",
    "    #We use the add method to add each Dense layer. We will add 10 neurons in the first layer. We specify the input shape parameter\n",
    "    #We will use the ReLU activation function\n",
    "    model.add(Dense(10, activation='relu', input_shape=(n_cols,)))\n",
    "    \n",
    "    #Creating a second layer with 10 neurons\n",
    "    model.add(Dense(10, activation='relu'))\n",
    "    \n",
    "    #Creating a third layer with 10 neurons.\n",
    "    model.add(Dense(10, activation='relu'))\n",
    "\n",
    "    #Output layer has 1 neuron\n",
    "    model.add(Dense(1))\n",
    "\n",
    "    #Next we need to specifiy an optimizer. We will use Adam.\n",
    "    #For measuring the error, we will use Mean Squared Error\n",
    "    model.compile(optimizer='adam', loss='mean_squared_error')\n",
    "    return model"
   ]
  },
  {
   "cell_type": "code",
   "execution_count": 21,
   "metadata": {},
   "outputs": [
    {
     "name": "stdout",
     "output_type": "stream",
     "text": [
      "Using random_state split:  1\n",
      "Mean Squared Error 1 = 160.13178107499306\n",
      "Using random_state split:  2\n",
      "Mean Squared Error 2 = 111.23005565161844\n",
      "Using random_state split:  3\n",
      "Mean Squared Error 3 = 145.955608701243\n",
      "Using random_state split:  4\n",
      "Mean Squared Error 4 = 138.87388847869576\n",
      "Using random_state split:  5\n",
      "Mean Squared Error 5 = 141.9161035729072\n",
      "Using random_state split:  6\n",
      "Mean Squared Error 6 = 141.3855426380935\n",
      "Using random_state split:  7\n",
      "Mean Squared Error 7 = 129.5494770926565\n",
      "Using random_state split:  8\n",
      "Mean Squared Error 8 = 131.01288212155833\n",
      "Using random_state split:  9\n",
      "Mean Squared Error 9 = 141.39000003160396\n",
      "Using random_state split:  10\n",
      "Mean Squared Error 10 = 114.8949571874921\n",
      "Using random_state split:  11\n",
      "Mean Squared Error 11 = 117.37938109956512\n",
      "Using random_state split:  12\n",
      "Mean Squared Error 12 = 105.90313615768088\n",
      "Using random_state split:  13\n",
      "Mean Squared Error 13 = 136.06363576747066\n",
      "Using random_state split:  14\n",
      "Mean Squared Error 14 = 139.158318973282\n",
      "Using random_state split:  15\n",
      "Mean Squared Error 15 = 113.09361753494608\n",
      "Using random_state split:  16\n",
      "Mean Squared Error 16 = 128.45008798247403\n",
      "Using random_state split:  17\n",
      "Mean Squared Error 17 = 126.6818469396301\n",
      "Using random_state split:  18\n",
      "Mean Squared Error 18 = 119.38352052756498\n",
      "Using random_state split:  19\n",
      "Mean Squared Error 19 = 127.78284975317304\n",
      "Using random_state split:  20\n",
      "Mean Squared Error 20 = 139.22718460428675\n",
      "Using random_state split:  21\n",
      "Mean Squared Error 21 = 97.26720030948182\n",
      "Using random_state split:  22\n",
      "Mean Squared Error 22 = 123.62547109659435\n",
      "Using random_state split:  23\n",
      "Mean Squared Error 23 = 130.36649317571647\n",
      "Using random_state split:  24\n",
      "Mean Squared Error 24 = 134.8707844261984\n",
      "Using random_state split:  25\n",
      "Mean Squared Error 25 = 131.83637338780278\n",
      "Using random_state split:  26\n",
      "Mean Squared Error 26 = 151.8648569051502\n",
      "Using random_state split:  27\n",
      "Mean Squared Error 27 = 139.94772956132118\n",
      "Using random_state split:  28\n",
      "Mean Squared Error 28 = 137.38279284628464\n",
      "Using random_state split:  29\n",
      "Mean Squared Error 29 = 137.380862930446\n",
      "Using random_state split:  30\n",
      "Mean Squared Error 30 = 145.79711583208498\n",
      "Using random_state split:  31\n",
      "Mean Squared Error 31 = 137.92821278001114\n",
      "Using random_state split:  32\n",
      "Mean Squared Error 32 = 132.75597482823247\n",
      "Using random_state split:  33\n",
      "Mean Squared Error 33 = 125.56542781101462\n",
      "Using random_state split:  34\n",
      "Mean Squared Error 34 = 135.9077866933878\n",
      "Using random_state split:  35\n",
      "Mean Squared Error 35 = 144.65855832393115\n",
      "Using random_state split:  36\n",
      "Mean Squared Error 36 = 138.8028915306511\n",
      "Using random_state split:  37\n",
      "Mean Squared Error 37 = 102.15152802205009\n",
      "Using random_state split:  38\n",
      "Mean Squared Error 38 = 121.07290629661584\n",
      "Using random_state split:  39\n",
      "Mean Squared Error 39 = 142.26371029356923\n",
      "Using random_state split:  40\n",
      "Mean Squared Error 40 = 129.59465594739203\n",
      "Using random_state split:  41\n",
      "Mean Squared Error 41 = 138.38679741424264\n",
      "Using random_state split:  42\n",
      "Mean Squared Error 42 = 117.75338088347303\n",
      "Using random_state split:  43\n",
      "Mean Squared Error 43 = 141.60002437455753\n",
      "Using random_state split:  44\n",
      "Mean Squared Error 44 = 144.5178494252819\n",
      "Using random_state split:  45\n",
      "Mean Squared Error 45 = 141.69449971023116\n",
      "Using random_state split:  46\n",
      "Mean Squared Error 46 = 108.59746025603951\n",
      "Using random_state split:  47\n",
      "Mean Squared Error 47 = 97.12515510633153\n",
      "Using random_state split:  48\n",
      "Mean Squared Error 48 = 132.6343853404221\n",
      "Using random_state split:  49\n",
      "Mean Squared Error 49 = 137.39786285104103\n",
      "Using random_state split:  50\n",
      "Mean Squared Error 50 = 129.4947308537258\n"
     ]
    }
   ],
   "source": [
    "MeanSquaredErrorsList = [] \n",
    "for i in range (1, 51): #Creating a loop that will execute 50 times with a random data split each time\n",
    "     \n",
    "     #Split random state\n",
    "     random_state = i\n",
    "     print(\"Using random_state split: \", random_state)\n",
    "     \n",
    "     #Splitting the dataset using 'i' (We use the X_normalized set)\n",
    "     X_train, X_test, y_train, y_test = train_test_split(X_normalized, y, test_size=0.3, random_state=random_state)    \n",
    "     \n",
    "     #Creating the model\n",
    "     model = Deeper_Regression_Network()\n",
    "    \n",
    "     #Lets train the model using X_train and y_train for 50 epochs.\n",
    "     model.fit(X_train, y_train, epochs=50, verbose=0)\n",
    "     \n",
    "     #Model Evaluation\n",
    "     Evaluation = model.evaluate(X_test, y_test, verbose=0)\n",
    "     print(\"Mean Squared Error \"+str(i)+\" = \"+str(Evaluation))\n",
    "     \n",
    "     #Predicting Strength for Test set\n",
    "     y_pred = model.predict(X_test)\n",
    "     MSE = mean_squared_error(y_test, y_pred)\n",
    "     MeanSquaredErrorsList.append(MSE)"
   ]
  },
  {
   "cell_type": "code",
   "execution_count": 22,
   "metadata": {},
   "outputs": [
    {
     "data": {
      "text/plain": [
       "array([160.13178473, 111.23005123, 145.95560157, 138.87388754,\n",
       "       141.91609997, 141.38553875, 129.54947739, 131.01287999,\n",
       "       141.39000116, 114.89495463, 117.37938005, 105.90313721,\n",
       "       136.06363274, 139.15831757, 113.09361599, 128.4500822 ,\n",
       "       126.68184533, 119.38351787, 127.78285065, 139.22718087,\n",
       "        97.26719899, 123.62547058, 130.36649504, 134.87078357,\n",
       "       131.83637437, 151.86485238, 139.94772862, 137.38279411,\n",
       "       137.38086138, 145.79711755, 137.92820714, 132.75597552,\n",
       "       125.56542989, 135.90778288, 144.65855672, 138.80288854,\n",
       "       102.15152689, 121.07290587, 142.26370818, 129.59465514,\n",
       "       138.38679743, 117.75338295, 141.60002403, 144.51784834,\n",
       "       141.69450187, 108.59745976,  97.12515603, 132.63438392,\n",
       "       137.39786429, 129.49472818])"
      ]
     },
     "execution_count": 22,
     "metadata": {},
     "output_type": "execute_result"
    }
   ],
   "source": [
    "#Creating a numpy array using MeanSquaredErrorList\n",
    "MeanSquaredErrorsList = np.array(MeanSquaredErrorsList)     \n",
    "MeanSquaredErrorsList"
   ]
  },
  {
   "cell_type": "code",
   "execution_count": 23,
   "metadata": {},
   "outputs": [
    {
     "name": "stdout",
     "output_type": "stream",
     "text": [
      "The Mean of the Mean Squared Errors =  130.79414595274227\n",
      "The Standard Deviation of the Mean Squared Errors =  13.679588658175687\n"
     ]
    }
   ],
   "source": [
    "#Calculating the mean of the Mean Squared Errors and the Standard Deviation\n",
    "Mean = np.mean(MeanSquaredErrorsList)   \n",
    "Standard_deviation = np.std(MeanSquaredErrorsList)\n",
    "print(\"The Mean of the Mean Squared Errors = \", Mean)\n",
    "print(\"The Standard Deviation of the Mean Squared Errors = \", Standard_deviation)"
   ]
  },
  {
   "cell_type": "markdown",
   "metadata": {},
   "source": [
    "'''\n",
    "\n",
    "Question: How does the mean of the mean squared errors compare to that from Step B?\n",
    "Answer: Increasing the number of hidden layers from 1 to 3 significantly decreased then mean of the mean squared error\n",
    "and stabalized the variance and standard deviation from one random_split state to another. It also increased the computation time.\n",
    "\n",
    "\n",
    "'''"
   ]
  }
 ],
 "metadata": {
  "kernelspec": {
   "display_name": "Python 3",
   "language": "python",
   "name": "python3"
  },
  "language_info": {
   "codemirror_mode": {
    "name": "ipython",
    "version": 3
   },
   "file_extension": ".py",
   "mimetype": "text/x-python",
   "name": "python",
   "nbconvert_exporter": "python",
   "pygments_lexer": "ipython3",
   "version": "3.7.7"
  }
 },
 "nbformat": 4,
 "nbformat_minor": 4
}
